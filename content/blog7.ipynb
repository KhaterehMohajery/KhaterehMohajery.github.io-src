{
 "cells": [
  {
   "cell_type": "markdown",
   "metadata": {},
   "source": [
    "Title: Introduction to plots in matplotlib\n",
    "Date: 2017-01-15 10:20\n",
    "Category: Review\n",
    "\n",
    "While it is very easy to draw many types of previously defined figures using matplotlib, customizing figures and plotting several plots in a same figure can be tricky.\n",
    "Here, I want to go over some of the basics of how different layers of a figure connected to each other to get a better understanding on what is needed for customizing figures.\n",
    "There are three layers to the matplotlib API. The matplotlib.backend_bases.FigureCanvas, the matplotlib.backend_bases.Renderer and the matplotlib.artist. Artist is the object that knows how to use  a renderer to paint onto the canvas. As a user we are mostly interested in things such as laying out the figure, text, and lines which are all handled by the Artist. \n",
    "\n",
    "There are two types of Artists: primitives and containers. The primitives are the graphical objects we want to paint (such as lines, text, etc.)  and the containers are places to put the primitives (such as Axis, Axes and Figure). \n",
    "\n",
    "#### Figure container\n",
    "A common way to create a plot is to instantiate a Figure instance:\n",
    "\n",
    "``` python\n",
    "import matplotlib.pyplot as plt\n",
    "fig = plt.figure()\n",
    "```\n",
    "#### Axes container\n",
    "After setting the Figure, create one or more Axes or Subplot instances:\n",
    "\n",
    "``` python\n",
    "ax = fig.add_subplot(2,1,1) # two rows, one column, first plot\n",
    "```\n",
    "\n",
    "and use the Axes instance helper methods such as plot(), text() and hist() to create the primitives and also customize it: \n",
    "``` python\n",
    "import numpy as np\n",
    "t = np.arange(0.0, 1.0, 0.01) # creating numbers as time\n",
    "s = np.sin(2*np.pi*t) # creating sin of time\n",
    "ax.plot(t, s, color='blue', lw=2)\n",
    "ax.set_xlabel('time')\n",
    "```\n",
    "#### Axis containers\n",
    "The matplotlib.axis.Axis instances handle the drawing of the tick lines, the grid lines, the tick labels and the axis label. Follwing code costumize the xaxis labels:\n",
    "``` python\n",
    "for label in ax.xaxis.get_ticklabels():\n",
    "    # label is a Text instance\n",
    "    label.set_color('red')\n",
    "    label.set_rotation(45)\n",
    "    label.set_fontsize(16)\n",
    "plt.savefig('Example.png')\n",
    "```\n",
    "\n",
    "#### Tick containers\n",
    "The matplotlib.axis.Tick is the final container object. The Tick contains the tick and grid line instances, as well as the label instances for the upper and lower ticks. \n",
    "\n",
    "![Example](Example.png)"
   ]
  }
 ],
 "metadata": {
  "anaconda-cloud": {},
  "kernelspec": {
   "display_name": "Python [conda root]",
   "language": "python",
   "name": "conda-root-py"
  },
  "language_info": {
   "codemirror_mode": {
    "name": "ipython",
    "version": 2
   },
   "file_extension": ".py",
   "mimetype": "text/x-python",
   "name": "python",
   "nbconvert_exporter": "python",
   "pygments_lexer": "ipython2",
   "version": "2.7.12"
  }
 },
 "nbformat": 4,
 "nbformat_minor": 1
}
