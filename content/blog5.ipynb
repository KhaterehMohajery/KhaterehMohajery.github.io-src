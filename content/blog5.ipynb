{
 "cells": [
  {
   "cell_type": "markdown",
   "metadata": {},
   "source": [
    "Title: Copy in Python\n",
    "Date: 2017-01-10 10:20\n",
    "Category: Review\n",
    "\n",
    "One thing that might be very helpful is to know that \"Assignment statements in python do not copy objects, they create bindings between a target and an object\". To make it clear what I mean by this, I provide an example. Assume you create a list called a:\n",
    "``` python\n",
    "a = [1,2,3,4]\n",
    "```\n",
    "if you want to have a copy of it you can assign it to a new variable:\n",
    "``` python\n",
    "b = a\n",
    "```\n",
    "Now if you make a change to your variable a, you do not expect variable b be affected. However, this is not the case in python. So, for example if you append an entry to the list a, it will be added to b as well as follow:\n",
    "``` python\n",
    "a.append(5)\n",
    "print b\n",
    "[1, 2, 3, 4, 5]\n",
    "```\n",
    "\n",
    "This happens due to above mentioned fact that you didn’t copy the list referenced by a. You just created a new tag called b and attached it to the list a’s memory address. And a and b really do point to the same memory address. So, to assign a new memory address for the list you are copying, you should do:\n",
    "``` python\n",
    "b = a [:] \n",
    "# or \n",
    "b = copy.copy(a) \n",
    "b = copy.deepcopy(a)\n",
    "```\n",
    "First returns a shallow copy of a and second one returns a deep copy of a.\n",
    "\n",
    "The difference between shallow and deep copying is only relevant for objects that contain other objects (compound objects like lists or class instances)\n"
   ]
  }
 ],
 "metadata": {
  "anaconda-cloud": {},
  "kernelspec": {
   "display_name": "Python [conda root]",
   "language": "python",
   "name": "conda-root-py"
  },
  "language_info": {
   "codemirror_mode": {
    "name": "ipython",
    "version": 2
   },
   "file_extension": ".py",
   "mimetype": "text/x-python",
   "name": "python",
   "nbconvert_exporter": "python",
   "pygments_lexer": "ipython2",
   "version": "2.7.12"
  }
 },
 "nbformat": 4,
 "nbformat_minor": 1
}
