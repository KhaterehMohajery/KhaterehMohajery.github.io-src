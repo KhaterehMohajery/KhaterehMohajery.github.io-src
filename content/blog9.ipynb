{
 "cells": [
  {
   "cell_type": "markdown",
   "metadata": {},
   "source": [
    "Title: Virtual Environment \n",
    "Date: 2017-02-08 10:20\n",
    "Category: Review\n",
    "\n",
    "Working on my Capstone project for the Data Science Immersive program at GA, I required to work with timeseries. Specifically, I needed to work with a library that was only available on a development version of statsmodel package. One thing I could do was to download the development version of statsmodel from github and set it up by running the setup.py to replace the current official statmodel version. However, this could mess up all the tested and working libraries and I did not want to risk that. So, instead I decided to make a virtual environment and set the version of python and libraries I needed in that environment without any interference with outside of that environment. To create a virtual environment follow these simple steps:\n",
    "Install virtualenv using pip:\n",
    "``` python\n",
    "$ pip install virtualenv\n",
    "```\n",
    "Create a virtual environment for this specific project you are working on:\n",
    "\n",
    "``` python\n",
    "$ cd project_folder\n",
    "$ virtualenv venv\n",
    "``` \n",
    "virtualenv venv creates a folder in the current directory which will contain the Python executable files, and a copy of the pip library which you can use to install other packages. The name of the environment (venv in this case) can be anything.\n",
    "This creates a copy of Python in the folder that you created for virtual environment. You can also use your version of choice for Python (like python 2.7).\n",
    "``` python\n",
    "$ virtualenv -p /usr/bin/python2.7 venv\n",
    "```\n",
    "To activate the virtual environment, try:\n",
    "``` python\n",
    "$ source venv/bin/activate\n",
    "```\n",
    "and when done working with it type:\n",
    "``` python\n",
    "$ deactivate\n",
    "```\n",
    "In order to install packages you can use:\n",
    "``` python\n",
    "$ pip install requests\n",
    "```\n",
    "Also note running virtualenv with the option --no-site-packages will not include the packages that are installed globally which gives you the flexibility to use your required version of packages.\n"
   ]
  }
 ],
 "metadata": {
  "kernelspec": {
   "display_name": "Python [conda root]",
   "language": "python",
   "name": "conda-root-py"
  },
  "language_info": {
   "codemirror_mode": {
    "name": "ipython",
    "version": 2
   },
   "file_extension": ".py",
   "mimetype": "text/x-python",
   "name": "python",
   "nbconvert_exporter": "python",
   "pygments_lexer": "ipython2",
   "version": "2.7.12"
  }
 },
 "nbformat": 4,
 "nbformat_minor": 1
}
