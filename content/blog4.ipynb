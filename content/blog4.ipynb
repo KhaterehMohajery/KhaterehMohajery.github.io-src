{
 "cells": [
  {
   "cell_type": "markdown",
   "metadata": {},
   "source": [
    "Title: Regular Expression \n",
    "Date: 2017-01-08 10:20\n",
    "Category: Review\n",
    "\n",
    "Regular Expressions are among the most amazing and helpful things you can have specially when you are working with text data. It is much easier to find patterns, groups or specific characters using regular expression (aka regex).\n",
    "There are few ones that are specially very helpful:\n",
    "such as:\n",
    "\n",
    "\\d  Any digit\n",
    "\n",
    "\\D  Any Non-digit character\n",
    "\n",
    "+   One or more repetition \n",
    "\n",
    "[abc]  Only a, b, or c\n",
    "\n",
    "[^abc]  Not a, b nor c\n",
    "\n",
    " \\w \tAny Alphanumeric character\n",
    " \n",
    " \\W \tAny Non-alphanumeric character\n",
    " \n",
    " \\s  Any whitespace\n",
    " \n",
    " \\S  Any Non-whitespace \n",
    " \n",
    " ^ $  Starts and ends\n",
    " \n",
    " ?  Optional character \n",
    " \n",
    "some example :\n",
    " \\d+  matches any numbers (integers)\n",
    " \n",
    " ab?c  matches either the strings \"abc\" or \"ac\" because the b is considered optional\n",
    " \n",
    " ^Hello  matches each line that starts with Hello\n",
    " \n",
    " bye$  matches each line that end with bye\n",
    " \n",
    " '^\\W+|\\W+$'  gets rid of punctuations\n",
    " \n",
    "Use regular expressions with split, replace, stripe methods on strings in pandas and you can easily deal with your messy text data!"
   ]
  }
 ],
 "metadata": {
  "anaconda-cloud": {},
  "kernelspec": {
   "display_name": "Python [conda root]",
   "language": "python",
   "name": "conda-root-py"
  },
  "language_info": {
   "codemirror_mode": {
    "name": "ipython",
    "version": 2
   },
   "file_extension": ".py",
   "mimetype": "text/x-python",
   "name": "python",
   "nbconvert_exporter": "python",
   "pygments_lexer": "ipython2",
   "version": "2.7.12"
  }
 },
 "nbformat": 4,
 "nbformat_minor": 1
}
